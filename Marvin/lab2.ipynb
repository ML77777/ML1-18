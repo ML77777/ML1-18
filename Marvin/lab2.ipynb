{
 "cells": [
  {
   "cell_type": "markdown",
   "metadata": {},
   "source": [
    "# **Save this file as studentid1_studentid2_lab2.ipynb**\n",
    "(Your student-id is the number shown on your student card.)\n",
    "\n",
    "E.g. if you work with 3 people, the notebook should be named:\n",
    "12301230_3434343_1238938934_lab2.ipynb.\n",
    "\n",
    "**This will be parsed by a regexp, so please double check your filename.**\n",
    "\n",
    "Before you turn this problem in, please make sure everything runs correctly. First, **restart the kernel** (in the menubar, select Kernel$\\rightarrow$Restart) and then **run all cells** (in the menubar, select Cell$\\rightarrow$Run All). Note, that **you are not allowed to use Google Colab**.\n",
    "\n",
    "**Make sure you fill in any place that says `YOUR CODE HERE` or \"YOUR ANSWER HERE\", as well as your names and email adresses below.**\n",
    "\n"
   ]
  },
  {
   "cell_type": "code",
   "execution_count": 1,
   "metadata": {},
   "outputs": [],
   "source": [
    "NAME = \"Bobbie van Gorp\"\n",
    "NAME2 = \"Marvin Lau\"\n",
    "NAME3 = \"\"\n",
    "EMAIL = \"bobbievangorp@live.n\"\n",
    "EMAIL2 = \"marvin77777@gmail.com\"\n",
    "EMAIL3 = \"\""
   ]
  },
  {
   "cell_type": "markdown",
   "metadata": {
    "deletable": false,
    "editable": false,
    "nbgrader": {
     "checksum": "f4a038bb9b524e62f6ec198362f51c9b",
     "grade": false,
     "grade_id": "cell-8d856208da5d0763",
     "locked": true,
     "schema_version": 1,
     "solution": false
    }
   },
   "source": [
    "# Lab 2: Classification\n",
    "\n",
    "### Machine Learning 1, November 2018\n",
    "\n",
    "Notes on implementation:\n",
    "\n",
    "* You should write your code and answers in this IPython Notebook: http://ipython.org/notebook.html. If you have problems, please contact your teaching assistant.\n",
    "* Please write your answers right below the questions.\n",
    "* Among the first lines of your notebook should be \"%pylab inline\". This imports all required modules, and your plots will appear inline.\n",
    "* Use the provided test cells to check if your answers are correct\n",
    "* **Make sure your output and plots are correct before handing in your assignment with Kernel -> Restart & Run All**\n",
    "\n",
    "* **If possible, all your implementations should be vectorized and rely on loops as little as possible. Therefore for some questions, we give you a maximum number of loops that are necessary for an efficient implementation. This number refers to the loops in this particular function and does not count the ones in functions that are called from the function. You should not go above this number for the maximum number of points.**\n",
    "\n",
    "$\\newcommand{\\bx}{\\mathbf{x}}$\n",
    "$\\newcommand{\\bw}{\\mathbf{w}}$\n",
    "$\\newcommand{\\bt}{\\mathbf{t}}$\n",
    "$\\newcommand{\\by}{\\mathbf{y}}$\n",
    "$\\newcommand{\\bm}{\\mathbf{m}}$\n",
    "$\\newcommand{\\bb}{\\mathbf{b}}$\n",
    "$\\newcommand{\\bS}{\\mathbf{S}}$\n",
    "$\\newcommand{\\ba}{\\mathbf{a}}$\n",
    "$\\newcommand{\\bz}{\\mathbf{z}}$\n",
    "$\\newcommand{\\bv}{\\mathbf{v}}$\n",
    "$\\newcommand{\\bq}{\\mathbf{q}}$\n",
    "$\\newcommand{\\bp}{\\mathbf{p}}$\n",
    "$\\newcommand{\\bh}{\\mathbf{h}}$\n",
    "$\\newcommand{\\bI}{\\mathbf{I}}$\n",
    "$\\newcommand{\\bX}{\\mathbf{X}}$\n",
    "$\\newcommand{\\bT}{\\mathbf{T}}$\n",
    "$\\newcommand{\\bPhi}{\\mathbf{\\Phi}}$\n",
    "$\\newcommand{\\bW}{\\mathbf{W}}$\n",
    "$\\newcommand{\\bV}{\\mathbf{V}}$"
   ]
  },
  {
   "cell_type": "code",
   "execution_count": 2,
   "metadata": {
    "deletable": false,
    "editable": false,
    "nbgrader": {
     "checksum": "e3d9c5a44d13bdc7545f1a15d6dc9c8c",
     "grade": false,
     "grade_id": "cell-422dbc02437671ac",
     "locked": true,
     "schema_version": 1,
     "solution": false
    }
   },
   "outputs": [
    {
     "name": "stdout",
     "output_type": "stream",
     "text": [
      "Populating the interactive namespace from numpy and matplotlib\n"
     ]
    }
   ],
   "source": [
    "%pylab inline\n",
    "plt.rcParams[\"figure.figsize\"] = [9,5]\n",
    "\n",
    "import time\n",
    "start = time.time()"
   ]
  },
  {
   "cell_type": "code",
   "execution_count": 3,
   "metadata": {
    "editable": false,
    "nbgrader": {
     "checksum": "e3d9c5a44d13bdc7545f1a15d6dc9c8c",
     "grade": false,
     "grade_id": "cell-422dbc02437671ac",
     "locked": true,
     "schema_version": 1,
     "solution": false
    }
   },
   "outputs": [
    {
     "name": "stdout",
     "output_type": "stream",
     "text": [
      "Populating the interactive namespace from numpy and matplotlib\n"
     ]
    }
   ],
   "source": [
    "%pylab inline\n",
    "plt.rcParams[\"figure.figsize\"] = [9,5]\n",
    "\n",
    "import time\n",
    "start = time.time()"
   ]
  },
  {
   "cell_type": "code",
   "execution_count": 4,
   "metadata": {
    "deletable": false,
    "editable": false,
    "nbgrader": {
     "checksum": "902185d2dda7e356189a57a09a637182",
     "grade": false,
     "grade_id": "cell-7f215df0e22ae748",
     "locked": true,
     "schema_version": 1,
     "solution": false
    }
   },
   "outputs": [],
   "source": [
    "# This cell makes sure that you have all the necessary libraries installed\n",
    "\n",
    "import sys\n",
    "import platform\n",
    "from importlib.util import find_spec, module_from_spec\n",
    "\n",
    "def check_newer_version(version_inst, version_nec):\n",
    "    version_inst_split = version_inst.split('.')\n",
    "    version_nec_split = version_nec.split('.')\n",
    "    for i in range(min(len(version_inst_split), len(version_nec_split))):\n",
    "        if int(version_nec_split[i]) > int(version_inst_split[i]):\n",
    "            return False\n",
    "        elif int(version_nec_split[i]) < int(version_inst_split[i]):\n",
    "            return True\n",
    "    return True\n",
    "        \n",
    "    \n",
    "module_list = [('jupyter', '1.0.0'), \n",
    "               ('matplotlib', '2.0.2'), \n",
    "               ('numpy', '1.13.1'), \n",
    "               ('python', '3.6.2'), \n",
    "               ('sklearn', '0.19.0'), \n",
    "               ('scipy', '0.19.1'), \n",
    "               ('nb_conda', '2.2.1')]\n",
    "\n",
    "packages_correct = True\n",
    "packages_errors = []\n",
    "\n",
    "for module_name, version in module_list:\n",
    "    if module_name == 'scikit-learn':\n",
    "        module_name = 'sklearn'\n",
    "    if module_name == 'pyyaml':\n",
    "        module_name = 'yaml'\n",
    "    if 'python' in module_name:\n",
    "        python_version = platform.python_version()\n",
    "        if not check_newer_version(python_version, version):\n",
    "            packages_correct = False\n",
    "            error = f'Update {module_name} to version {version}. Current version is {python_version}.'\n",
    "            packages_errors.append(error) \n",
    "            print(error)\n",
    "    else:\n",
    "        spec = find_spec(module_name)\n",
    "        if spec is None:\n",
    "            packages_correct = False\n",
    "            error = f'Install {module_name} with version {version} or newer, it is required for this assignment!'\n",
    "            packages_errors.append(error) \n",
    "            print(error)\n",
    "        else:\n",
    "            x =__import__(module_name)\n",
    "            if hasattr(x, '__version__') and not check_newer_version(x.__version__, version):\n",
    "                packages_correct = False\n",
    "                error = f'Update {module_name} to version {version}. Current version is {x.__version__}.'\n",
    "                packages_errors.append(error) \n",
    "                print(error)\n",
    "\n",
    "try:\n",
    "    from google.colab import drive\n",
    "    packages_correct = False\n",
    "    error = \"\"\"Please, don't use google colab!\n",
    "It will make it much more complicated for us to check your homework as it merges all the cells into one.\"\"\"\n",
    "    packages_errors.append(error) \n",
    "    print(error)\n",
    "except:\n",
    "    pass\n",
    "\n",
    "packages_errors = '\\n'.join(packages_errors)"
   ]
  },
  {
   "cell_type": "markdown",
   "metadata": {
    "deletable": false,
    "editable": false,
    "nbgrader": {
     "checksum": "17f77a32492fcf6ac989eab8a50e4dab",
     "grade": false,
     "grade_id": "cell-821f67d8cd14e4f7",
     "locked": true,
     "schema_version": 1,
     "solution": false
    }
   },
   "source": [
    "# Part 1. Multiclass logistic regression\n",
    "\n",
    "Scenario: you have a friend with one big problem: she's completely blind. You decided to help her: she has a special smartphone for blind people, and you are going to develop a mobile phone app that can do _machine vision_ using the mobile camera: converting a picture (from the camera) to the meaning of the image. You decide to start with an app that can read handwritten digits, i.e. convert an image of handwritten digits to text (e.g. it would enable her to read precious handwritten phone numbers).\n",
    "\n",
    "A key building block for such an app would be a function `predict_digit(x)` that returns the digit class of an image patch $\\bx$. Since hand-coding this function is highly non-trivial, you decide to solve this problem using machine learning, such that the internal parameters of this function are automatically learned using machine learning techniques.\n",
    "\n",
    "The dataset you're going to use for this is the MNIST handwritten digits dataset (`http://yann.lecun.com/exdb/mnist/`). You can download the data with scikit learn, and load it as follows:"
   ]
  },
  {
   "cell_type": "code",
   "execution_count": 5,
   "metadata": {
    "deletable": false,
    "editable": false,
    "nbgrader": {
     "checksum": "d31db37aebf93c82a9408cfa97b788d3",
     "grade": false,
     "grade_id": "cell-bcdbc957165abae7",
     "locked": true,
     "schema_version": 1,
     "solution": false
    }
   },
   "outputs": [],
   "source": [
    "from sklearn.datasets import fetch_mldata\n",
    "import os\n",
    "# Fetch the data\n",
    "try:\n",
    "    mnist = fetch_mldata('MNIST original', data_home='.')\n",
    "except Exception:\n",
    "    raise FileNotFoundError('Please download mnist-original.mat from Canvas and put it in %s/mldata' % os.getcwd())\n",
    "data, target = mnist.data, mnist.target.astype('int')\n",
    "# Shuffle\n",
    "indices = np.arange(len(data))\n",
    "np.random.seed(123)\n",
    "np.random.shuffle(indices)\n",
    "data, target = data[indices].astype('float32'), target[indices]\n",
    "\n",
    "# Normalize the data between 0.0 and 1.0:\n",
    "data /= 255. \n",
    "\n",
    "# Split\n",
    "x_train, x_valid, x_test = data[:50000], data[50000:60000], data[60000: 70000]\n",
    "t_train, t_valid, t_test = target[:50000], target[50000:60000], target[60000: 70000]"
   ]
  },
  {
   "cell_type": "markdown",
   "metadata": {
    "deletable": false,
    "editable": false,
    "nbgrader": {
     "checksum": "5b20138af0810741223d2c2ddc82bf0f",
     "grade": false,
     "grade_id": "cell-b7b4a5a96dccf229",
     "locked": true,
     "schema_version": 1,
     "solution": false
    }
   },
   "source": [
    "MNIST consists of small 28 by 28 pixel images of written digits (0-9). We split the dataset into a training, validation and testing arrays. The variables `x_train`, `x_valid` and `x_test` are $N \\times M$ matrices, where $N$ is the number of datapoints in the respective set, and $M = 28^2 = 784$ is the dimensionality of the data. The second set of variables `t_train`, `t_valid` and `t_test` contain the corresponding $N$-dimensional vector of integers, containing the true class labels.\n",
    "\n",
    "Here's a visualisation of the first 8 digits of the trainingset:"
   ]
  },
  {
   "cell_type": "code",
   "execution_count": 6,
   "metadata": {
    "deletable": false,
    "editable": false,
    "nbgrader": {
     "checksum": "40e1628ec56b6d664edf9aaf496ea637",
     "grade": false,
     "grade_id": "cell-48a92c0a2a2bf4dd",
     "locked": true,
     "schema_version": 1,
     "solution": false
    }
   },
   "outputs": [
    {
     "data": {
      "image/png": "[encoded data removed]",
      "text/plain": [
       "<matplotlib.figure.Figure at 0x7f558f10a160>"
      ]
     },
     "metadata": {
      "needs_background": "light"
     },
     "output_type": "display_data"
    }
   ],
   "source": [
    "def plot_digits(data, num_cols, targets=None, shape=(28,28)):\n",
    "    num_digits = data.shape[0]\n",
    "    num_rows = int(num_digits/num_cols)\n",
    "    for i in range(num_digits):\n",
    "        plt.subplot(num_rows, num_cols, i+1)\n",
    "        plt.imshow(data[i].reshape(shape), interpolation='none', cmap='Greys')\n",
    "        if targets is not None:\n",
    "            plt.title(int(targets[i]))\n",
    "        plt.colorbar()\n",
    "        plt.axis('off')\n",
    "    plt.tight_layout()\n",
    "    plt.show()\n",
    "    \n",
    "plot_digits(x_train[0:40000:5000], num_cols=4, targets=t_train[0:40000:5000])"
   ]
  },
  {
   "cell_type": "markdown",
   "metadata": {
    "deletable": false,
    "editable": false,
    "nbgrader": {
     "checksum": "9c7e0668b7e246603c3c12d9183c9a83",
     "grade": false,
     "grade_id": "cell-3eb664a58e03bf42",
     "locked": true,
     "schema_version": 1,
     "solution": false
    }
   },
   "source": [
    "In _multiclass_ logistic regression, the conditional probability of class label $j$ given the image $\\bx$ for some datapoint is given by:\n",
    "\n",
    "$ \\log p(t = j \\;|\\; \\bx, \\bb, \\bW) = \\log q_j - \\log Z$\n",
    "\n",
    "where $\\log q_j = \\bw_j^T \\bx + b_j$ (the log of the unnormalized probability of the class $j$), and $Z = \\sum_k q_k$ is the normalizing factor. $\\bw_j$ is the $j$-th column of $\\bW$ (a matrix of size $784 \\times 10$) corresponding to the class label, $b_j$ is the $j$-th element of $\\bb$.\n",
    "\n",
    "Given an input image, the multiclass logistic regression model first computes the intermediate vector $\\log \\bq$ (of size $10 \\times 1$), using $\\log q_j = \\bw_j^T \\bx + b_j$, containing the unnormalized log-probabilities per class. \n",
    "\n",
    "The unnormalized probabilities are then normalized by $Z$ such that $\\sum_j p_j = \\sum_j \\exp(\\log p_j) = 1$. This is done by $\\log p_j = \\log q_j - \\log Z$ where $Z = \\sum_i \\exp(\\log q_i)$. This is known as the _softmax_ transformation, and is also used as a last layer of many classifcation neural network models, to ensure that the output of the network is a normalized distribution, regardless of the values of second-to-last layer ($\\log \\bq$)\n",
    "\n",
    "**Warning**: when computing $\\log Z$, you are likely to encounter numerical problems. Save yourself countless hours of debugging and learn the [log-sum-exp trick](https://www.xarg.org/2016/06/the-log-sum-exp-trick-in-machine-learning/ \"Title\").\n",
    "\n",
    "The network's output $\\log \\bp$ of size $10 \\times 1$ then contains the conditional log-probabilities $\\log p(t = j \\;|\\; \\bx, \\bb, \\bW)$ for each digit class $j$. In summary, the computations are done in this order:\n",
    "\n",
    "$\\bx \\rightarrow \\log \\bq \\rightarrow Z \\rightarrow \\log \\bp$\n",
    "\n",
    "Given some dataset with $N$ independent, identically distributed datapoints, the log-likelihood is given by:\n",
    "\n",
    "$ \\mathcal{L}(\\bb, \\bW) = \\sum_{n=1}^N \\mathcal{L}^{(n)}$\n",
    "\n",
    "where we use $\\mathcal{L}^{(n)}$ to denote the partial log-likelihood evaluated over a single datapoint. It is important to see that the log-probability of the class label $t^{(n)}$ given the image, is given by the $t^{(n)}$-th element of the network's output $\\log \\bp$, denoted by $\\log p_{t^{(n)}}$:\n",
    "\n",
    "$\\mathcal{L}^{(n)} = \\log p(t = t^{(n)} \\;|\\; \\bx = \\bx^{(n)}, \\bb, \\bW) = \\log p_{t^{(n)}} = \\log q_{t^{(n)}} - \\log Z^{(n)}$\n",
    "\n",
    "where $\\bx^{(n)}$ and $t^{(n)}$ are the input (image) and class label (integer) of the $n$-th datapoint, and $Z^{(n)}$ is the normalizing constant for the distribution over $t^{(n)}$.\n"
   ]
  },
  {
   "cell_type": "markdown",
   "metadata": {
    "deletable": false,
    "editable": false,
    "nbgrader": {
     "checksum": "4e7f3f70641be7c1154d9ca2f83afa42",
     "grade": false,
     "grade_id": "cell-17766ee789f11384",
     "locked": true,
     "schema_version": 1,
     "solution": false
    }
   },
   "source": [
    "## 1.1 Gradient-based stochastic optimization\n",
    "### 1.1.1 Derive gradient equations (20 points)\n",
    "\n",
    "Derive the equations for computing the (first) partial derivatives of the log-likelihood w.r.t. all the parameters, evaluated at a _single_ datapoint $n$.\n",
    "\n",
    "You should start deriving the equations for $\\frac{\\partial \\mathcal{L}^{(n)}}{\\partial \\log q_j}$ for each $j$. For clarity, we'll use the shorthand $\\delta^q_j = \\frac{\\partial \\mathcal{L}^{(n)}}{\\partial \\log q_j}$.\n",
    "\n",
    "For $j = t^{(n)}$:\n",
    "$$\n",
    "\\delta^q_j\n",
    "= \\frac{\\partial \\mathcal{L}^{(n)}}{\\partial \\log p_j}\n",
    "\\frac{\\partial \\log p_j}{\\partial \\log q_j}\n",
    "+ \\frac{\\partial \\mathcal{L}^{(n)}}{\\partial \\log Z}\n",
    "\\frac{\\partial \\log Z}{\\partial Z} \n",
    "\\frac{\\partial Z}{\\partial \\log q_j} \n",
    "= \\frac{\\partial \\mathcal\\log q_j}{\\partial \\log q_j}\n",
    "-\n",
    "\\frac{\\partial \\log Z}{\\partial Z} \n",
    "\\frac{\\partial Z}{\\partial \\log q_j} \n",
    "= 1  - \\frac{\\partial \\log Z}{\\partial Z} \n",
    "\\frac{\\partial Z}{\\partial \\log q_j}\n",
    "$$\n",
    "\n",
    "For $j \\neq t^{(n)}$:\n",
    "$$\n",
    "\\delta^q_j\n",
    "= \\frac{\\partial \\mathcal{L}^{(n)}}{\\partial \\log Z}\n",
    "\\frac{\\partial \\log Z}{\\partial Z} \n",
    "\\frac{\\partial Z}{\\partial \\log q_j} \n",
    "= - \\frac{\\partial \\log Z}{\\partial Z} \n",
    "\\frac{\\partial Z}{\\partial \\log q_j}\n",
    "$$\n",
    "\n",
    "Complete the above derivations for $\\delta^q_j$ by furtherly developing $\\frac{\\partial \\log Z}{\\partial Z}$ and $\\frac{\\partial Z}{\\partial \\log q_j}$. Both are quite simple. For these it doesn't matter whether $j = t^{(n)}$ or not.\n",
    "\n"
   ]
  },
  {
   "cell_type": "markdown",
   "metadata": {
    "deletable": false,
    "nbgrader": {
     "checksum": "f394ea0423ed2b17c80bbe8f1193cc81",
     "grade": true,
     "grade_id": "cell-e40110444a1e1d3f",
     "locked": false,
     "points": 10,
     "schema_version": 1,
     "solution": true
    }
   },
   "source": [
    "\n",
    "$$\\frac{\\partial \\log Z}{\\partial Z} = \\frac{1}{Z}$$\n",
    "\n",
    "$$\\frac{\\partial Z}{\\partial \\log q_j} = exp(log(q_j)) = q_j $$\n",
    "\n",
    "\n",
    "For $j = t^{(n)}$:\n",
    "\\begin{align}\n",
    "\\delta^q_j\n",
    "&= 1 - \\frac{1}{z} * exp(log (q_j)) = 1- \\frac{1}{z} * q_j  = 1- \\frac{q_j}{z} = 1- \\frac{q_j}{\\sum_k q_k}\n",
    "\\end{align}\n",
    "For $j \\neq t^{(n)}$:\n",
    "\\begin{align}\n",
    "\\delta^q_j\n",
    "&= - \\frac{q_j}{z} = - \\frac{q_j}{\\sum_k q_k}\n",
    "\\end{align}"
   ]
  },
  {
   "cell_type": "markdown",
   "metadata": {
    "deletable": false,
    "editable": false,
    "nbgrader": {
     "checksum": "d46c028e9830445397d7b2275815990d",
     "grade": false,
     "grade_id": "cell-c770cfe1389ca4ff",
     "locked": true,
     "schema_version": 1,
     "solution": false
    }
   },
   "source": [
    "Given your equations for computing the gradients $\\delta^q_j$ it should be quite straightforward to derive the equations for the gradients of the parameters of the model, $\\frac{\\partial \\mathcal{L}^{(n)}}{\\partial W_{ij}}$ and $\\frac{\\partial \\mathcal{L}^{(n)}}{\\partial b_j}$. The gradients for the biases $\\bb$ are given by:\n",
    "\n",
    "$\n",
    "\\frac{\\partial \\mathcal{L}^{(n)}}{\\partial b_j}\n",
    "= \\frac{\\partial \\mathcal{L}^{(n)}}{\\partial \\log q_j}\n",
    "\\frac{\\partial \\log q_j}{\\partial b_j}\n",
    "= \\delta^q_j\n",
    "\\cdot 1\n",
    "= \\delta^q_j\n",
    "$\n",
    "\n",
    "The equation above gives the derivative of $\\mathcal{L}^{(n)}$ w.r.t. a single element of $\\bb$, so the vector $\\nabla_\\bb \\mathcal{L}^{(n)}$ with all derivatives of $\\mathcal{L}^{(n)}$ w.r.t. the bias parameters $\\bb$ is: \n",
    "\n",
    "$\n",
    "\\nabla_\\bb \\mathcal{L}^{(n)} = \\mathbf{\\delta}^q\n",
    "$\n",
    "\n",
    "where $\\mathbf{\\delta}^q$ denotes the vector of size $10 \\times 1$ with elements $\\mathbf{\\delta}_j^q$.\n",
    "\n",
    "The (not fully developed) equation for computing the derivative of $\\mathcal{L}^{(n)}$ w.r.t. a single element $W_{ij}$ of $\\bW$ is:\n",
    "\n",
    "$\n",
    "\\frac{\\partial \\mathcal{L}^{(n)}}{\\partial W_{ij}} =\n",
    "\\frac{\\partial \\mathcal{L}^{(n)}}{\\partial \\log q_j}\n",
    "\\frac{\\partial \\log q_j}{\\partial W_{ij}}\n",
    "= \\mathbf{\\delta}_j^q\n",
    "\\frac{\\partial \\log q_j}{\\partial W_{ij}}\n",
    "$\n",
    "\n",
    "What is $\\frac{\\partial \\log q_j}{\\partial W_{ij}}$? Complete the equation above.\n",
    "\n",
    "If you want, you can give the resulting equation in vector format ($\\nabla_{\\bw_j} \\mathcal{L}^{(n)} = ...$), like we did for $\\nabla_\\bb \\mathcal{L}^{(n)}$."
   ]
  },
  {
   "cell_type": "markdown",
   "metadata": {
    "deletable": false,
    "nbgrader": {
     "checksum": "70fc98e5b227736e2bb92964a3c7174d",
     "grade": true,
     "grade_id": "cell-e40110444a1asdfasdfd3f",
     "locked": false,
     "points": 10,
     "schema_version": 1,
     "solution": true
    }
   },
   "source": [
    "$$\\frac{\\partial log q_j}{\\partial W_{ij}} = \\frac{\\partial}{\\partial W_{ij}} w_j^T x + b_j = \\frac{\\partial}{\\partial W_{ij}} \\sum_{i=1}^M w_{ij} x_i + b_j  $$\n",
    "$$ =   x_i $$\n",
    "\n",
    "$$\\frac{\\partial \\mathcal{L}^{(n)}}{\\partial W_{ij}} \n",
    "= \\mathbf{\\delta}_j^q \\frac{\\partial \\log q_j}{\\partial W_{ij}} = \\mathbf{\\delta}_j^q * x_i$$\n",
    "\n",
    "$$\\nabla_{w_j} \\mathcal{L}^{(n)} =  \\mathbf{\\delta}_j^q x $$"
   ]
  },
  {
   "cell_type": "markdown",
   "metadata": {
    "deletable": false,
    "editable": false,
    "nbgrader": {
     "checksum": "7744e9051681182c7e1af0c515622fce",
     "grade": false,
     "grade_id": "cell-b0f28b0924b9983d",
     "locked": true,
     "schema_version": 1,
     "solution": false
    }
   },
   "source": [
    "### 1.1.2 Implement gradient computations (15 points)\n",
    "\n",
    "Implement the gradient calculations you derived in the previous question. Write a function `logreg_gradient(x, t, w, b)` that returns the gradients $\\nabla_{\\bw_j} \\mathcal{L}^{(n)}$ (for each $j$) and $\\nabla_{\\bb} \\mathcal{L}^{(n)}$, i.e. the first partial derivatives of the log-likelihood w.r.t. the parameters $\\bW$ and $\\bb$, evaluated at a single datapoint (`x`, `t`).\n",
    "The computation will contain roughly the following intermediate variables:\n",
    "\n",
    "$\n",
    "\\log \\bq \\rightarrow Z \\rightarrow \\log \\bp\\,,\\, \\mathbf{\\delta}^q\n",
    "$\n",
    "\n",
    "followed by computation of the gradient vectors $\\nabla_{\\bw_j} \\mathcal{L}^{(n)}$ (contained in a $784 \\times 10$ matrix) and $\\nabla_{\\bb} \\mathcal{L}^{(n)}$ (a $10 \\times 1$ vector).\n",
    "\n",
    "For maximum points, ensure the function is numerically stable.\n"
   ]
  },
  {
   "cell_type": "code",
   "execution_count": 30,
   "metadata": {
    "deletable": false,
    "nbgrader": {
     "checksum": "e0d41cbf33ddb93414c789220c024c45",
     "grade": false,
     "grade_id": "cell-6858f885be587480",
     "locked": false,
     "schema_version": 1,
     "solution": true
    }
   },
   "outputs": [],
   "source": [
    "# 1.1.2 Compute gradient of log p(t|x;w,b) wrt w and b\n",
    "def calc_logp(x, t, w, b,v=None,a=None,mlp=False):\n",
    "    \n",
    "    if not mlp:\n",
    "        log_q = np.matmul(x,w) + b\n",
    "        a = np.max(log_q)\n",
    "        log_z = np.add(np.log( np.sum(np.exp(log_q-a))),a)\n",
    "        logp = log_q - log_z\n",
    "        t = t[0]\n",
    "    else:\n",
    "        #Forward pass \n",
    "        act_s = np.matmul(x,v) + a \n",
    "        sigmoid = lambda a_j: 1.0 / (1.0 + np.exp(-a_j))\n",
    "        h_function = np.vectorize(sigmoid)\n",
    "        h = h_function(act_s) #Z, hidden nodes, called h here \n",
    "\n",
    "        log_q = np.matmul(h,w) + b\n",
    "        max_q = np.max(log_q)\n",
    "        log_z = np.add(np.log( np.sum(np.exp(log_q-max_q))),max_q)\n",
    "        #print(\"Log z shape \",log_z.shape)\n",
    "        logp = log_q - log_z\n",
    "    t = t[0]\n",
    "    \n",
    "    # here the statement contains logp[:,t] where logp is meant as a matrix of shape 1x10\n",
    "    \n",
    "    return logp[:,t].squeeze()\n",
    "\n",
    "def logreg_gradient(x, t, w, b):\n",
    "\n",
    "    # YOUR CODE HERE\n",
    "    #print(\"x\",x.shape)\n",
    "    #print(\"t\",t.shape)\n",
    "    #print(\"w\",w.shape)\n",
    "    #print(\"b\",b.shape)\n",
    "    #print(w)\n",
    "    log_q = np.matmul(x,w) + b\n",
    "    a = np.max(log_q)\n",
    "    log_z = np.add(np.log( np.sum(np.exp(log_q-a))),a)\n",
    "    #print(\"Log z shape\", log_z.shape)\n",
    "    logp = log_q - log_z\n",
    "    #print(\"Log p shape\", logp.shape)\n",
    "    #print(\"logp\",logp)\n",
    "    \n",
    "    q = np.exp(log_q)\n",
    "    z = np.exp(log_z)\n",
    "\n",
    "    one_hot_t = np.zeros(log_q.shape)\n",
    "    #print(\"One hot t\", one_hot_t,one_hot_t.shape)\n",
    "    #print(t)\n",
    "    t = t[0]\n",
    "    #print(t)\n",
    "    one_hot_t[0][t] = 1\n",
    "    #print(\"One hot t\", one_hot_t,one_hot_t.shape)\n",
    "    deltaq = one_hot_t - (q/z)\n",
    "\n",
    "    dL_db = deltaq\n",
    "    dL_dw = np.matmul(np.transpose(x),deltaq)\n",
    "    #print(\"DLDW\",dL_dw[0])\n",
    "    \n",
    "    # here the statement contains logp[:,t] where logp is meant as a matrix of shape 1x10\n",
    "    \n",
    "    return logp[:,t].squeeze(), dL_dw, dL_db.squeeze()\n"
   ]
  },
  {
   "cell_type": "code",
   "execution_count": 72,
   "metadata": {
    "deletable": false,
    "editable": false,
    "nbgrader": {
     "checksum": "a86683efa9cf9356b51f08cb6d2599b7",
     "grade": true,
     "grade_id": "cell-48057487182fe951",
     "locked": true,
     "points": 5,
     "schema_version": 1,
     "solution": false
    }
   },
   "outputs": [],
   "source": [
    "# Hidden tests for efficiency"
   ]
  },
  {
   "cell_type": "code",
   "execution_count": 31,
   "metadata": {
    "deletable": false,
    "editable": false,
    "nbgrader": {
     "checksum": "281f0c66a2c9bfdf53c1995a852eea1f",
     "grade": true,
     "grade_id": "cell-1c9659f607b151a2",
     "locked": true,
     "points": 4,
     "schema_version": 1,
     "solution": false
    }
   },
   "outputs": [
    {
     "name": "stdout",
     "output_type": "stream",
     "text": [
      "Test gradient on one point\n",
      "Log Likelihood:\t -2.2959726720744777\n",
      "\n",
      "Grad_W_ij\t (784, 10) matrix\n",
      "Grad_W_ij[0,152:158]=\t [-0.04518971 -0.06758809 -0.07819784 -0.09077237 -0.07584012 -0.06365855]\n",
      "\n",
      "Grad_B_i shape\t (10,) vector\n",
      "Grad_B_i=\t [-0.10020327 -0.09977827 -0.1003198   0.89933657 -0.10037941 -0.10072863\n",
      " -0.09982729 -0.09928672 -0.09949324 -0.09931994]\n",
      "i in {0,...,9}; j in M\n"
     ]
    }
   ],
   "source": [
    "np.random.seed(123)\n",
    "# scalar, 10 X 768  matrix, 10 X 1 vector\n",
    "w = np.random.normal(size=(28*28,10), scale=0.001)\n",
    "# w = np.zeros((784,10))\n",
    "b = np.zeros((10,))\n",
    "\n",
    "# test gradients, train on 1 sample\n",
    "logpt, grad_w, grad_b = logreg_gradient(x_train[0:1,:], t_train[0:1], w, b)\n",
    "\n",
    "print(\"Test gradient on one point\")\n",
    "print(\"Log Likelihood:\\t\", logpt)\n",
    "print(\"\\nGrad_W_ij\\t\",grad_w.shape,\"matrix\")\n",
    "print(\"Grad_W_ij[0,152:158]=\\t\", grad_w[152:158,0])\n",
    "print(\"\\nGrad_B_i shape\\t\",grad_b.shape,\"vector\")\n",
    "print(\"Grad_B_i=\\t\", grad_b.T)\n",
    "print(\"i in {0,...,9}; j in M\")\n",
    "\n",
    "assert logpt.shape == (), logpt.shape\n",
    "assert grad_w.shape == (784, 10), grad_w.shape\n",
    "assert grad_b.shape == (10,), grad_b.shape\n",
    "\n",
    "\n"
   ]
  },
  {
   "cell_type": "code",
   "execution_count": 32,
   "metadata": {
    "deletable": false,
    "editable": false,
    "nbgrader": {
     "checksum": "2ec5c9e0bdfc89e9d8e34971863dd612",
     "grade": true,
     "grade_id": "cell-fd59c3a03a87ab83",
     "locked": true,
     "points": 4,
     "schema_version": 1,
     "solution": false
    }
   },
   "outputs": [
    {
     "name": "stdout",
     "output_type": "stream",
     "text": [
      "Finite difference error grad_w: 6.3612946893e-07\n",
      "Finite difference error grad_b: 5.23511748609e-08\n"
     ]
    }
   ],
   "source": [
    "# It's always good to check your gradient implementations with finite difference checking:\n",
    "# Scipy provides the check_grad function, which requires flat input variables.\n",
    "# So we write two helper functions that provide the gradient and output with 'flat' weights:\n",
    "from scipy.optimize import check_grad\n",
    "\n",
    "np.random.seed(123)\n",
    "# scalar, 10 X 768  matrix, 10 X 1 vector\n",
    "w = np.random.normal(size=(28*28,10), scale=0.001)\n",
    "# w = np.zeros((784,10))\n",
    "b = np.zeros((10,))\n",
    "\n",
    "def func(w):\n",
    "    logpt, grad_w, grad_b = logreg_gradient(x_train[0:1,:], t_train[0:1], w.reshape(784,10), b)\n",
    "    return logpt\n",
    "def grad(w):\n",
    "    logpt, grad_w, grad_b = logreg_gradient(x_train[0:1,:], t_train[0:1], w.reshape(784,10), b)\n",
    "    return grad_w.flatten()\n",
    "finite_diff_error = check_grad(func, grad, w.flatten())\n",
    "print('Finite difference error grad_w:', finite_diff_error)\n",
    "assert finite_diff_error < 1e-3, 'Your gradient computation for w seems off'\n",
    "\n",
    "def func(b):\n",
    "    logpt, grad_w, grad_b = logreg_gradient(x_train[0:1,:], t_train[0:1], w, b)\n",
    "    return logpt\n",
    "def grad(b):\n",
    "    logpt, grad_w, grad_b = logreg_gradient(x_train[0:1,:], t_train[0:1], w, b)\n",
    "    return grad_b.flatten()\n",
    "finite_diff_error = check_grad(func, grad, b)\n",
    "print('Finite difference error grad_b:', finite_diff_error)\n",
    "assert finite_diff_error < 1e-3, 'Your gradient computation for b seems off'\n",
    "\n"
   ]
  },
  {
   "cell_type": "code",
   "execution_count": 75,
   "metadata": {
    "deletable": false,
    "editable": false,
    "nbgrader": {
     "checksum": "4bb956f91b61cedbca19fe84c4b7fd44",
     "grade": true,
     "grade_id": "cell-91b8c5eb86f6a0f3",
     "locked": true,
     "points": 2,
     "schema_version": 1,
     "solution": false
    }
   },
   "outputs": [],
   "source": [
    "# DO NOT REMOVE THIS CELL!\n",
    "# It contains hidden tests\n"
   ]
  },
  {
   "cell_type": "markdown",
   "metadata": {
    "deletable": false,
    "editable": false,
    "nbgrader": {
     "checksum": "1f2bf7605bef859967bd38bb1c3c384c",
     "grade": false,
     "grade_id": "cell-bdce061b39aaacec",
     "locked": true,
     "schema_version": 1,
     "solution": false
    }
   },
   "source": [
    "\n",
    "### 1.1.3 Stochastic gradient descent (15 points)\n",
    "\n",
    "Write a function `sgd_iter(x_train, t_train, w, b)` that performs one iteration of stochastic gradient descent (SGD), and returns the new weights. It should go through the trainingset once in randomized order, call `logreg_gradient(x, t, w, b)` for each datapoint to get the gradients, and update the parameters **using a small learning rate of `1e-6`**. Note that in this case we're maximizing the likelihood function, so we should actually performing gradient ___ascent___... For more information about SGD, see Bishop 5.2.4 or an online source (i.e. https://en.wikipedia.org/wiki/Stochastic_gradient_descent)"
   ]
  },
  {
   "cell_type": "code",
   "execution_count": 16,
   "metadata": {
    "deletable": false,
    "nbgrader": {
     "checksum": "a1fd10093bd350a24e4a718bc0133738",
     "grade": true,
     "grade_id": "cell-86bf84658f1c5bc8",
     "locked": false,
     "points": 5,
     "schema_version": 1,
     "solution": true
    }
   },
   "outputs": [],
   "source": [
    "def sgd_iter(x_train, t_train, W, b):\n",
    "    # YOUR CODE HERE\n",
    "    logp_train = 0\n",
    "    eta = 1e-4\n",
    "    indices = list(range(x_train.shape[0]))\n",
    "    random.shuffle(indices)\n",
    "    \n",
    "    for index in indices:\n",
    "        x_sample = x_train[index].reshape((1, 784))\n",
    "        t_sample = np.array(t_train[index],ndmin=1)\n",
    "\n",
    "        logpt, grad_w, grad_b = logreg_gradient(x_sample,t_sample,W,b)\n",
    "        logp_train += logpt\n",
    "        W = W + (eta*grad_w)\n",
    "        b = b + (eta*grad_b)\n",
    "    \n",
    "    return logp_train, W, b"
   ]
  },
  {
   "cell_type": "code",
   "execution_count": 17,
   "metadata": {
    "deletable": false,
    "editable": false,
    "nbgrader": {
     "checksum": "f9dc9179ce6db8ed7eba9ea02ed82723",
     "grade": true,
     "grade_id": "cell-0929d502114babdb",
     "locked": true,
     "points": 5,
     "schema_version": 1,
     "solution": false
    }
   },
   "outputs": [],
   "source": [
    "# Hidden tests for efficiency"
   ]
  },
  {
   "cell_type": "code",
   "execution_count": 18,
   "metadata": {
    "deletable": false,
    "editable": false,
    "nbgrader": {
     "checksum": "0e5a417580d51fc1c3ef7519047eead4",
     "grade": true,
     "grade_id": "cell-2f7bbc264cc887a0",
     "locked": true,
     "points": 5,
     "schema_version": 1,
     "solution": false
    }
   },
   "outputs": [],
   "source": [
    "# Sanity check:\n",
    "np.random.seed(1243)\n",
    "w = np.zeros((28*28, 10))\n",
    "b = np.zeros(10)\n",
    "    \n",
    "logp_train, W, b = sgd_iter(x_train[:5], t_train[:5], w, b)\n",
    "\n",
    "\n"
   ]
  },
  {
   "cell_type": "markdown",
   "metadata": {
    "deletable": false,
    "editable": false,
    "nbgrader": {
     "checksum": "a60e2b48d4b187276ec9e8f8ef86a5f3",
     "grade": false,
     "grade_id": "cell-81634c804e1f93fc",
     "locked": true,
     "schema_version": 1,
     "solution": false
    }
   },
   "source": [
    "## 1.2. Train\n",
    "\n",
    "### 1.2.1 Train (12 points)\n",
    "Perform SGD on the training set. Plot (in one graph) the conditional log-probability of the training set and validation set after each iteration. (6 points)\n",
    "\n",
    "Instead of running SGD for a fixed number of steps, run it until convergence. Think of a reasonable criterion for determining convergence. As a reference: choose a criterion such that the algorithm terminates in less than 15 iterations over the training set. (2 points)\n",
    "\n",
    "Make sure your implementation (in particular, the output of the conditional log-probability of the training set and validation set) is independent of the size of the dataset. (2 points)"
   ]
  },
  {
   "cell_type": "code",
   "execution_count": 79,
   "metadata": {
    "deletable": false,
    "editable": false,
    "nbgrader": {
     "checksum": "0d46a6466493fa88818a210decebf40a",
     "grade": true,
     "grade_id": "cell-b290fe89d0aa4ffb",
     "locked": true,
     "points": 2,
     "schema_version": 1,
     "solution": false
    }
   },
   "outputs": [],
   "source": [
    "# Hidden tests for efficiency"
   ]
  },
  {
   "cell_type": "code",
   "execution_count": 19,
   "metadata": {
    "deletable": false,
    "nbgrader": {
     "checksum": "221a9af93fcc6e5ab77fc26652c80a5f",
     "grade": true,
     "grade_id": "cell-20a347ba4db6e82c",
     "locked": false,
     "points": 10,
     "schema_version": 1,
     "solution": true
    }
   },
   "outputs": [
    {
     "name": "stdout",
     "output_type": "stream",
     "text": [
      "Iteration:  1\n",
      "2.50260364586\n",
      "Iteration:  2\n",
      "0.957284596684\n",
      "Iteration:  3\n",
      "0.615411307601\n",
      "Iteration:  4\n",
      "0.463188284594\n",
      "Iteration:  5\n",
      "0.375835809225\n",
      "Iteration:  6\n",
      "0.319488285029\n",
      "Iteration:  7\n",
      "0.278592465429\n",
      "Iteration:  8\n",
      "0.248970461256\n",
      "Iteration:  9\n",
      "0.224908582525\n",
      "Iteration:  10\n",
      "0.206092972994\n",
      "Iteration:  11\n",
      "0.190603264689\n",
      "Iteration:  12\n",
      "0.177721211779\n",
      "Iteration:  13\n",
      "0.16658047772\n",
      "Iteration:  14\n",
      "0.156076775083\n",
      "Iteration:  15\n",
      "0.148269983651\n"
     ]
    },
    {
     "data": {
      "image/png": "[encoded data removed]",
      "text/plain": [
       "<matplotlib.figure.Figure at 0x7f55640e9ac8>"
      ]
     },
     "metadata": {
      "needs_background": "light"
     },
     "output_type": "display_data"
    }
   ],
   "source": [
    "\n",
    "\n",
    "def test_sgd(x_train, t_train, x_valid, t_valid, w, b):\n",
    "    # YOUR CODE HERE\n",
    "    old_w = np.ones(w.shape)\n",
    "    \n",
    "    logp_train_avgs = []\n",
    "    logp_valid_avgs = []\n",
    "    counter = 1\n",
    "    x_train_len = x_train.shape[0]\n",
    "    x_valid_len = x_valid.shape[0]\n",
    "    while numpy.linalg.norm(w-old_w) > 0.15:\n",
    "        \n",
    "        print('Iteration: ',counter)\n",
    "        old_w = w\n",
    "        logp_train, w, b = sgd_iter(x_train, t_train, w, b)\n",
    "        logp_train_avg = logp_train/x_train_len\n",
    "        logp_train_avgs.append(logp_train_avg)\n",
    "        \n",
    "        logp_valid_sum = 0\n",
    "        for i,x_sample in enumerate(x_valid):\n",
    "            x_sample = x_sample.reshape((1, 784))\n",
    "            t_sample = np.array(t_valid[i],ndmin=1)\n",
    "            logp_valid = calc_logp(x_sample,t_sample,w,b)\n",
    "            #logp_valid, grad_w, grad_b = logreg_gradient(x_sample,t_sample,w,b)\n",
    "            logp_valid_sum += logp_valid\n",
    "            #logp_valid_avg = logp_valid/x_valid.shape[0]\n",
    "        logp_valid_avg = logp_valid_sum / x_valid_len\n",
    "        logp_valid_avgs.append(logp_valid_avg)\n",
    "\n",
    "        counter +=1\n",
    "        \n",
    "    plt.plot(np.arange(len(logp_train_avgs)), logp_train_avgs, 'r',label=\"Log p on training set for each iteration\")\n",
    "    plt.plot(np.arange(len(logp_train_avgs)), logp_train_avgs, 'bo',label=\"Datapoints of log p on training set for each iteration \")\n",
    "    plt.plot(np.arange(len(logp_valid_avgs)), logp_valid_avgs, 'g',label=\"Log p on validation set for each iteration\")\n",
    "    plt.plot(np.arange(len(logp_valid_avgs)), logp_valid_avgs, 'mo',label=\"Datapoints of log p on validation set for each iteration\")\n",
    "    title = \"Average conditional log probabilities for each iteration\"\n",
    "    plt.title(title,fontsize=14,fontweight=\"bold\")\n",
    "    plt.ylabel('Log p mean',fontsize=15)\n",
    "    plt.xlabel('Iterations',fontsize=15)\n",
    "    plt.legend()\n",
    "    plt.show()\n",
    "    \n",
    "    \n",
    "    return w,b\n",
    "    \n",
    "np.random.seed(1243)\n",
    "w = np.zeros((28*28, 10))\n",
    "b = np.zeros(10)\n",
    "w,b = test_sgd(x_train, t_train, x_valid, t_valid, w, b)"
   ]
  },
  {
   "cell_type": "markdown",
   "metadata": {
    "deletable": false,
    "editable": false,
    "nbgrader": {
     "checksum": "a6d85bbd97cad35d524b65b23f64e75f",
     "grade": false,
     "grade_id": "cell-cf7f3da57d19493a",
     "locked": true,
     "schema_version": 1,
     "solution": false
    }
   },
   "source": [
    "### 1.2.2 Visualize weights (10 points)\n",
    "Visualize the resulting parameters $\\bW$ after a few iterations through the training set, by treating each column of $\\bW$ as an image. If you want, you can use or edit the `plot_digits(...)` above.\n"
   ]
  },
  {
   "cell_type": "code",
   "execution_count": 20,
   "metadata": {
    "deletable": false,
    "nbgrader": {
     "checksum": "4e554436500eebe1527a31039570a264",
     "grade": true,
     "grade_id": "cell-b10656f35fac065e",
     "locked": false,
     "points": 5,
     "schema_version": 1,
     "solution": true
    }
   },
   "outputs": [
    {
     "name": "stdout",
     "output_type": "stream",
     "text": [
      "(784, 10)\n"
     ]
    },
    {
     "data": {
      "image/png": "[encoded data removed]",
      "text/plain": [
       "<matplotlib.figure.Figure at 0x7f5563fe4ba8>"
      ]
     },
     "metadata": {
      "needs_background": "light"
     },
     "output_type": "display_data"
    }
   ],
   "source": [
    "# YOUR CODE HERE\n",
    "def plot_digits(w, num_cols, targets=None, shape=(28,28)):\n",
    "    num_digits = w.shape[1]\n",
    "    num_rows = int(num_digits/num_cols)\n",
    "    print(w.shape)\n",
    "    for i in range(w.shape[1]):\n",
    "        plt.subplot(num_rows, num_cols, i+1)\n",
    "        plt.imshow(w[:,i].reshape(shape), interpolation='none', cmap='YlGnBu')\n",
    "        if targets is not None:\n",
    "            plt.title(\"Weight \" + str(i))\n",
    "        plt.colorbar()\n",
    "        plt.axis('off')\n",
    "    plt.tight_layout()\n",
    "    plt.show()\n",
    "\n",
    "plot_digits(w, num_cols=5,targets=0)"
   ]
  },
  {
   "cell_type": "markdown",
   "metadata": {
    "deletable": false,
    "nbgrader": {
     "checksum": "de187afcf5ae1e34b80bc10610760e7a",
     "grade": true,
     "grade_id": "cell-eb131c8b7303da38",
     "locked": false,
     "points": 5,
     "schema_version": 1,
     "solution": true
    }
   },
   "source": [
    "**Describe in less than 100 words why these weights minimize the loss**\n",
    "Because the weights are updated with gradient ascent to find the weights at the maximium. After convergence, the found weight maximizimes the likelihood. And therefore, maximizing the likelihood result into minimizing the loss as those are the \"best\" weights found in order to fit the training data and will generalize to other test data if it is not overfitted."
   ]
  },
  {
   "cell_type": "markdown",
   "metadata": {
    "deletable": false,
    "editable": false,
    "nbgrader": {
     "checksum": "7a6a97ce145be9d58d5cf190e49da491",
     "grade": false,
     "grade_id": "cell-f36d974d9ef34c97",
     "locked": true,
     "schema_version": 1,
     "solution": false
    }
   },
   "source": [
    "### 1.2.3. Visualize the 8 hardest and 8 easiest digits (10 points)\n",
    "Visualize the 8 digits in the validation set with the highest probability of the true class label under the model.\n",
    "Also plot the 8 digits that were assigned the lowest probability.\n"
   ]
  },
  {
   "cell_type": "code",
   "execution_count": 22,
   "metadata": {
    "deletable": false,
    "nbgrader": {
     "checksum": "4f212e606b9d9d7fd4ae403d643dacfd",
     "grade": true,
     "grade_id": "cell-3802d61680deeff5",
     "locked": false,
     "points": 5,
     "schema_version": 1,
     "solution": true
    }
   },
   "outputs": [
    {
     "data": {
      "image/png": "[encoded data removed]",
      "text/plain": [
       "<matplotlib.figure.Figure at 0x7f5563a0cc88>"
      ]
     },
     "metadata": {
      "needs_background": "light"
     },
     "output_type": "display_data"
    }
   ],
   "source": [
    "# YOUR CODE HERE\n",
    "def get_best_worse(x,t):\n",
    "    logp_list = []\n",
    "    for i,x_sample in enumerate(x_valid):\n",
    "        x_sample = x_sample.reshape((1, 784))\n",
    "        t_sample = np.array(t_valid[i],ndmin=1)\n",
    "        logp_valid = calc_logp(x_sample,t_sample,w,b)\n",
    "        #logp_valid, grad_w, grad_b = logreg_gradient(x_sample,t_sample,w,b)\n",
    "            #logp_valid_avg = logp_valid/x_valid.shape[0]\n",
    "        logp_tuple = (logp_valid,i)\n",
    "        logp_list.append(logp_tuple)\n",
    "    logp_list.sort()\n",
    "    index_worst_list = [index for log_p_value,index in logp_list[:8]]\n",
    "    index_best_list = [index for log_p_value,index in logp_list[-1:-9:-1]]\n",
    "    \n",
    "    return (index_worst_list,index_best_list)\n",
    "\n",
    "def visualize_16(x, num_cols, index_worst_list,index_best_list,targets=None,shape=(28,28)):\n",
    "    num_digits = 16\n",
    "    num_rows = int(num_digits/num_cols)\n",
    "    best_and_worst = index_worst_list + index_best_list\n",
    "    for i,index in enumerate(best_and_worst):\n",
    "        plt.subplot(num_rows, num_cols, i+1)\n",
    "        x_sample = x[index]\n",
    "        \n",
    "        #index_best = index_best_list[i]\n",
    "        #x_valid_bad = x[index_worst]\n",
    "        #x_valid_best = x[index_best]\n",
    "        #print(x_sample.shape)\n",
    "        plt.imshow(x_sample.reshape(shape), interpolation='none', cmap='YlGnBu')\n",
    "        if targets is not None:\n",
    "            rank = str(i % 8 + 1)\n",
    "            if i > 7:\n",
    "                title = \"Best ranked \" + rank\n",
    "            else: \n",
    "                title = \"Worst ranked \" + rank\n",
    "            plt.title(title)\n",
    "        plt.colorbar()\n",
    "        plt.axis('off')\n",
    "    plt.tight_layout()\n",
    "    plt.show()\n",
    "    \n",
    "\n",
    "index_worst_list,index_best_list = get_best_worse(x_valid,t_valid)\n",
    "visualize_16(x_valid, 4,index_worst_list,index_best_list,targets=t_valid)\n"
   ]
  },
  {
   "cell_type": "markdown",
   "metadata": {
    "deletable": false,
    "nbgrader": {
     "checksum": "642d43cd6542e6cf49779799becbd435",
     "grade": true,
     "grade_id": "cell-6564a51fdda06d95",
     "locked": false,
     "points": 5,
     "schema_version": 1,
     "solution": true
    }
   },
   "source": [
    "Ask yourself if these results make sense. Explain in no more then two sentences what it means that a digit is hard to classify.\n",
    "\n",
    "YOUR ANSWER HERE"
   ]
  },
  {
   "cell_type": "markdown",
   "metadata": {
    "deletable": false,
    "editable": false,
    "nbgrader": {
     "checksum": "21418c6f8f5a8b5bd54c2b6fd655ec90",
     "grade": false,
     "grade_id": "cell-2c525344c99e5b26",
     "locked": true,
     "schema_version": 1,
     "solution": false
    }
   },
   "source": [
    "# Part 2. Multilayer perceptron\n",
    "\n",
    "\n",
    "You discover that the predictions by the logistic regression classifier are not good enough for your application: the model is too simple. You want to increase the accuracy of your predictions by using a better model. For this purpose, you're going to use a multilayer perceptron (MLP), a simple kind of neural network. The perceptron will have a single hidden layer $\\bh$ with $L$ elements. The parameters of the model are $\\bV$ (connections between input $\\bx$ and hidden layer $\\bh$), $\\ba$ (the biases/intercepts of $\\bh$), $\\bW$ (connections between $\\bh$ and $\\log q$) and $\\bb$ (the biases/intercepts of $\\log q$).\n",
    "\n",
    "The conditional probability of the class label $j$ is given by:\n",
    "\n",
    "$\\log p(t = j \\;|\\; \\bx, \\bb, \\bW) = \\log q_j - \\log Z$\n",
    "\n",
    "where $q_j$ are again the unnormalized probabilities per class, and $Z = \\sum_j q_j$ is again the probability normalizing factor. Each $q_j$ is computed using:\n",
    "\n",
    "$\\log q_j = \\bw_j^T \\bh + b_j$\n",
    "\n",
    "where $\\bh$ is a $L \\times 1$ vector with the hidden layer activations (of a hidden layer with size $L$), and $\\bw_j$ is the $j$-th column of $\\bW$ (a $L \\times 10$ matrix). Each element of the hidden layer is computed from the input vector $\\bx$ using:\n",
    "\n",
    "$h_j = \\sigma(\\bv_j^T \\bx + a_j)$\n",
    "\n",
    "where $\\bv_j$ is the $j$-th column of $\\bV$ (a $784 \\times L$ matrix), $a_j$ is the $j$-th element of $\\ba$, and $\\sigma(.)$ is the so-called sigmoid activation function, defined by:\n",
    "\n",
    "$\\sigma(x) = \\frac{1}{1 + \\exp(-x)}$\n",
    "\n",
    "Note that this model is almost equal to the multiclass logistic regression model, but with an extra 'hidden layer' $\\bh$. The activations of this hidden layer can be viewed as features computed from the input, where the feature transformation ($\\bV$ and $\\ba$) is learned.\n",
    "\n",
    "## 2.1 Derive gradient equations (20 points)\n",
    "\n",
    "State (shortly) why $\\nabla_{\\bb} \\mathcal{L}^{(n)}$ is equal to the earlier (multiclass logistic regression) case, and why $\\nabla_{\\bw_j} \\mathcal{L}^{(n)}$ is almost equal to the earlier case.\n",
    "\n",
    "Like in multiclass logistic regression, you should use intermediate variables $\\mathbf{\\delta}_j^q$. In addition, you should use intermediate variables $\\mathbf{\\delta}_j^h = \\frac{\\partial \\mathcal{L}^{(n)}}{\\partial h_j}$.\n",
    "\n",
    "Given an input image, roughly the following intermediate variables should be computed:\n",
    "\n",
    "$\n",
    "\\log \\bq \\rightarrow Z \\rightarrow \\log \\bp \\rightarrow \\mathbf{\\delta}^q \\rightarrow \\mathbf{\\delta}^h\n",
    "$\n",
    "\n",
    "where $\\mathbf{\\delta}_j^h = \\frac{\\partial \\mathcal{L}^{(n)}}{\\partial \\bh_j}$.\n",
    "\n",
    "Give the equations for computing $\\mathbf{\\delta}^h$, and for computing the derivatives of $\\mathcal{L}^{(n)}$ w.r.t. $\\bW$, $\\bb$, $\\bV$ and $\\ba$. \n",
    "\n",
    "You can use the convenient fact that $\\frac{\\partial}{\\partial x} \\sigma(x) = \\sigma(x) (1 - \\sigma(x))$."
   ]
  },
  {
   "cell_type": "markdown",
   "metadata": {
    "deletable": false,
    "nbgrader": {
     "checksum": "bb7ce29f01484f94a6357784ddaf6412",
     "grade": true,
     "grade_id": "cell-48f48bb8ec75cc3c",
     "locked": false,
     "points": 20,
     "schema_version": 1,
     "solution": true
    }
   },
   "source": [
    "The gradient of b and w are similiar as those are used in the last fromthe hidden layer to the output. It can be conisdered the same as multiclass logistic regression if looking at the transitin  from second last layer to last layer, where the hidden layer h in thise case can be viewed as the input that was x in Q1.1.1. Now the input are the hidden nodes. The gradient of b does not depend on the input as stated before, but gradient w.r.t. w does, so the only difference in that gradient is that x is recplaced with h. \n",
    "\n",
    "First computing $\\frac{\\partial \\mathcal{L}^{(n)}}{\\partial \\bh_j}$, which gets following derivative:\n",
    "\n",
    "Als kijken zonder index, kan het ook gwn W zijn ipv diagonal matrix van W. De shapes verschillen wel. W alleen is logisch, maar ik kom niet uit met shapes\n",
    "\n",
    "$$\n",
    "\\delta^h_j\n",
    "= \\frac{\\partial \\log q_{t^{(n)}}}{\\partial\\log q_{j}}\n",
    "\\frac{\\partial \\log q_{j}}{\\partial \\log h_j}\n",
    "-\n",
    "\\frac{\\partial \\log Z}{\\partial Z} \n",
    "\\frac{\\partial Z}{\\partial \\log q_j}\n",
    "\\frac{\\partial \\log q_j}{\\partial \\log h_j}\n",
    "$$ \n",
    "\n",
    "\n",
    "$$\n",
    "\\delta^h_j\n",
    "= \n",
    "\\frac{\\partial \\mathcal{L}^{(n)}}{\\partial \\log q_j}\n",
    "\\frac{\\partial \\log q_{j}}{\\partial \\log h_j}\n",
    "$$ \n",
    "\n",
    "\n",
    "$$\n",
    "\\frac{\\partial \\log q_{j}}{\\partial \\log h_j} = \\frac{\\partial w_j^Th + b_j}{\\partial \\log h_j} = \n",
    "\\frac{\\partial \\sum^L_{i=1} w_{ij}h_i + b_j}{\\partial \\log h_j} = w_{jj}\n",
    "$$\n",
    "of\n",
    "$$\\frac{\\partial \\sum^L_{i=1} w_{ij}h_i + b_j}{\\partial \\log h_j} = w_{j}$$\n",
    "\n",
    "And the remainders, already seen in Q1.1.1:\n",
    "$$ \\frac{\\partial \\log Z}{\\partial Z}  = \\frac{1}{z}$$ \\\\\n",
    "$$\\frac{\\partial Z}{\\partial \\log q_j} = \\frac{\\partial \\sum_i exp(\\log q_i)}{\\partial \\log q_j} = q_j $$\n",
    "\n",
    "Combining this:\n",
    "\n",
    "Diag(W) stands for the diagonal elements of matrix W. Where position ij in matrix is where i and j are the same:\n",
    "\n",
    "$$\n",
    "\\delta^h_j\n",
    "= \\delta^q_j w_{jj}\n",
    "\\\\\n",
    "\\delta^h = \\delta^q  diag(W)\n",
    "$$\n",
    "of dit, wat logisch is als je kijkt naar hele ding en niet per j. Dan is wTh+a w.r.t h = w. Maar boven is ook logisch. Boven komt beter uit met shape. En log probability gaat wel afnemen, alleen lijkt anders.\n",
    "$$\\delta^h_j\n",
    "= \\delta^q_j w_{j} $$\n",
    "$$\\delta^h = \\delta^q W$$\n",
    "\n",
    "Which can be seen from this:\n",
    "$$\n",
    "\\frac{\\partial \\log q}{\\partial \\log h} = \\frac{\\partial W^Th + b}{\\partial \\log h} = \n",
    "W^T\n",
    "$$\n",
    "\n",
    "Then formulating $\\frac{\\partial \\mathcal{L}^{(n)} }{\\partial W_{ij}}$,$\\frac{\\partial \\mathcal{L}^{(n)} }{\\partial b_{j}}$, $\\frac{\\partial \\mathcal{L}^{(n)} }{\\partial V_{ij}}$ and $\\frac{\\partial \\mathcal{L}^{(n)} }{\\partial a_{j}}$:\n",
    "\n",
    "\\\\\n",
    "Where $\\frac{\\partial \\mathcal{L}^{(n)} }{\\partial W_{ij}}$ and $\\frac{\\partial \\mathcal{L}^{(n)} }{\\partial b_{j}}$ are the same as in Question 1.1.1 as the only different is that x is replaced with h, $\\delta^h_j$ is the same as well:\n",
    "\n",
    "$$ \\frac{\\partial \\mathcal{L}^{(n)} }{\\partial W_{ij}} =  \\frac{\\partial \\mathcal{L}^{(n)} }{\\partial log_{q_j}}  \\frac{\\partial \\log q_j }{\\partial W_{ij}} = \\delta^q_j  h_i$$ \n",
    "\n",
    "$$\\frac{\\partial \\mathcal{L}^{(n)} }{\\partial b_{j}} =  \\frac{\\partial \\mathcal{L}^{(n)} }{\\partial log_{qj}}  \\frac{\\partial \\log q_j }{\\partial b_{j}} = \\delta^q_j * 1 = \\delta^q_j$$\n",
    "\n",
    "Then $\\frac{\\partial \\mathcal{L}^{(n)} }{\\partial V_{ij}}$ and $\\frac{\\partial \\mathcal{L}^{(n)} }{\\partial a_{j}}$, where the activation function (input for sigmoid) for $h_j$ will be denoted by $s = \\bv_j^T \\bx + a_j$ as to avoid confusion with the bias $a_j$: \n",
    "$$ \\frac{\\partial \\mathcal{L}^{(n)} }{\\partial V_{ij}} =  \\frac{\\partial \\mathcal{L}^{(n)}}{\\partial \\bh_j} \\frac{\\partial h_j}{\\partial s_j} \\frac{\\partial s_j}{\\partial V_{ij}}  $$\n",
    "\n",
    "$$\\frac{\\partial h_j}{\\partial s_j} = \\sigma(s_j)(1-\\sigma(s_j))$$ \\\\\n",
    "\n",
    "$$\\frac{\\partial s_j}{\\partial V_{ij}} = \\frac{\\partial \\bv_j^T \\bx + a_j}{\\partial V_{ij}} = \\frac{\\partial \\sum^L_{i=1} \\bv_{ij} \\bx_i + a_j}{\\partial V_{ij}} = x_i$$\n",
    "\n",
    "$$ \\frac{\\partial \\mathcal{L}^{(n)} }{\\partial V_{ij}} = \\delta^h_j \\sigma(s_j)(1-\\sigma(s_j))  x_i$$\n",
    "\n",
    "$$ \\frac{\\partial \\mathcal{L}^{(n)} }{\\partial a_{j}} = \\frac{\\partial \\mathcal{L}^{(n)}}{\\partial \\bh_j} \\frac{\\partial h_j}{\\partial s_j} \\frac{\\partial s_j}{\\partial a_{j}} = \\delta^h_j \\sigma(s_j)(1-\\sigma(s_j)) \\frac{\\partial s_j}{\\partial a_{j}} = \\delta^h_j \\sigma(s_j)(1-\\sigma(s_j)) * 1 =  \\delta^h_j \\sigma(s_j)(1-\\sigma(s_j))$$\n",
    "\n"
   ]
  },
  {
   "cell_type": "markdown",
   "metadata": {
    "deletable": false,
    "editable": false,
    "nbgrader": {
     "checksum": "cfcfec5959134f7f3fca2ba585a94fba",
     "grade": false,
     "grade_id": "cell-0bff945081e993fc",
     "locked": true,
     "schema_version": 1,
     "solution": false
    }
   },
   "source": [
    "## 2.2 MAP optimization (10 points)\n",
    "\n",
    "You derived equations for finding the _maximum likelihood_ solution of the parameters. Explain, in a few sentences, how you could extend this approach so that it optimizes towards a _maximum a posteriori_ (MAP) solution of the parameters, with a Gaussian prior on the parameters. "
   ]
  },
  {
   "cell_type": "markdown",
   "metadata": {
    "deletable": false,
    "nbgrader": {
     "checksum": "49d6376929b1cdf60a9ca9282512f1b4",
     "grade": true,
     "grade_id": "cell-1daef2744c010b73",
     "locked": false,
     "points": 10,
     "schema_version": 1,
     "solution": true
    }
   },
   "source": [
    "To optimize for the MAP, you have to argmax w for the posterior, which is proportional to the likelihood times the prior. The likelihood might not be Gaussian distributed like the prior, so the posterior might not be Gaussian as well, therefore the prior might not be a conjugate prior. Then for MAP, you can derive the log likelihood of the posterior and find the derivatives w.r.t each parameter W,b,V and a. The derivative of the log likelihood were comptued above, so the extension would be the derivative of the prior. And then the same procedure of applying SGD to update the weights, as there is not closed form solution, but the we do know that the error function is convex."
   ]
  },
  {
   "cell_type": "markdown",
   "metadata": {
    "deletable": false,
    "editable": false,
    "nbgrader": {
     "checksum": "c7e27334475d494b296af3afdf6bfcb4",
     "grade": false,
     "grade_id": "cell-2e56d8a567e2fb08",
     "locked": true,
     "schema_version": 1,
     "solution": false
    }
   },
   "source": [
    "## 2.3. Implement and train a MLP (15 points)\n",
    "\n",
    "Implement an MLP model with a single hidden layer of **20 neurons**. \n",
    "Train the model for **10 epochs**.\n",
    "Test your implementation for learning rates of 1e-2, 1e-3 and 1e-4 and plot (in one graph) the conditional log-probability of the trainingset and validation set. \n",
    "\n",
    "For the best model plot the weights of the first layer for in epoch 0,4 and 9. \n",
    "\n",
    "\n",
    "- 10 points: Working MLP that learns with plots\n",
    "- +5 points: Fast, numerically stable, vectorized implementation"
   ]
  },
  {
   "cell_type": "code",
   "execution_count": 34,
   "metadata": {
    "deletable": false,
    "nbgrader": {
     "checksum": "bca5a8a86e2d27a1c43d84fd9105421d",
     "grade": true,
     "grade_id": "cell-5d1924ace9e216e2",
     "locked": false,
     "points": 0,
     "schema_version": 1,
     "solution": true
    }
   },
   "outputs": [
    {
     "name": "stdout",
     "output_type": "stream",
     "text": [
      "-2.30232782400599\n",
      "True\n",
      "Test gradient on one point\n",
      "Log Likelihood:\t -2.30232782400599\n",
      "\n",
      "Grad_W_ij\t (20, 10) matrix\n",
      "Grad_v_ij[0,152:158]=\t [-0.00013946 -0.00020858 -0.00024132 -0.00028013 -0.00023404 -0.00019645]\n",
      "\n",
      "Grad_B_i shape\t (10,) vector\n",
      "Grad_B_i=\t [-0.09981174 -0.09969693 -0.10019312  0.89997427 -0.10005954 -0.09991428\n",
      " -0.10014171 -0.09992429 -0.10043058 -0.09980208]\n",
      "i in {0,...,9}; j in M\n"
     ]
    }
   ],
   "source": [
    "# Write all helper functions here\n",
    "# YOUR CODE HERE\n",
    "# Compute gradient of log p(t|x;w,b) wrt w,b,v and a\n",
    "def MLP_gradient(x, t, w, b,v,a):\n",
    "\n",
    "    # YOUR CODE HERE\n",
    "    #print(\"x\",x.shape)\n",
    "    #print(\"t\",t.shape)\n",
    "    #print(\"w\",w.shape)\n",
    "    #print(\"b\",b.shape)\n",
    "    #print(\"v\",v.shape)\n",
    "    #print(\"a\",a.shape)\n",
    "    \n",
    "    #Forward pass \n",
    "    act_s = np.matmul(x,v) + a \n",
    "    #print(\"act_s\",act_s.shape)\n",
    "    sigmoid = lambda a_j: 1.0 / (1.0 + np.exp(-a_j))\n",
    "    deriv_sig = lambda a_j: sigmoid(a_j) * (1-sigmoid(a_j))\n",
    "    h_function = np.vectorize(sigmoid)\n",
    "    h = h_function(act_s) #Z, hidden nodes, called h here \n",
    "    \n",
    "    #print(\"h\",h.shape)\n",
    "    \n",
    "    log_q = np.matmul(h,w) + b\n",
    "    #print(log_q)\n",
    "    max_q = np.max(log_q)\n",
    "    log_z = np.add(np.log( np.sum(np.exp(log_q-max_q))),max_q)\n",
    "    q = np.exp(log_q)\n",
    "    z = np.exp(log_z)\n",
    "    #print(\"Log z shape \",log_z.shape)\n",
    "    logp = log_q - log_z\n",
    "    #print(\"Log p shape \",logp.shape)\n",
    "    #print(logp)\n",
    "    \n",
    "    #Derivatives\n",
    "    one_hot_t = np.zeros(log_q.shape)\n",
    "    t = t[0]\n",
    "    one_hot_t[0][t] = 1\n",
    "    deltaq = one_hot_t - (q/z)\n",
    "    #print(\"delta q shape\",deltaq.shape)\n",
    "    #delta_h = np.matmul(deltaq,np.diag(w)) # deltaq times diagonal elements of W    #original\n",
    "    #print(\"delta h shape \",delta_h.shape)\n",
    "    #print(\"deltaq\",deltaq.shape)\n",
    "    #print(\"w tranpose\",np.transpose(w).shape)\n",
    "    delta_h = np.matmul(deltaq,np.transpose(w))         #Should be this one\n",
    "    #print(\"delta h shape \",delta_h.shape)\n",
    "    \n",
    "    dL_db = deltaq\n",
    "    dL_dw = np.matmul(np.transpose(h),deltaq)\n",
    "    #print(\"dL_dW\",dL_dw.shape)\n",
    "    #print(\"dL_db\",dL_db.shape)\n",
    "    #print(np.diag(w).reshape((10,1)).shape)\n",
    "    \n",
    "    h_function_deriv = np.vectorize(deriv_sig)\n",
    "    h_deriv = h_function_deriv(act_s)\n",
    "    #print(\"h_deriv shape\",h_deriv.shape)\n",
    "    #dL_da = np.matmul(delta_h,h_deriv)                                  #original\n",
    "    #print(delta_h)\n",
    "    #print(h_deriv)\n",
    "    dL_da = delta_h * h_deriv                       #Test\n",
    "    #print(dL_da)\n",
    "    #print(\"dL_da shape\",dL_da.shape)\n",
    "    #print(\"DL_DA:\",dL_da)\n",
    "    #dL_dv = np.matmul(np.transpose(x),dL_da.reshape((1,20)))   #original\n",
    "    #print(\"tarnpose x\",np.transpose(x).shape)\n",
    "    #print(\"da\",dL_da.shape)\n",
    "    dL_dv = np.matmul(np.transpose(x),dL_da)     #test\n",
    "    #print(\"DL_DV\",dL_dv) #It looks like v is only 0, probably not true, x is most of the time zero, at indices, but at some not, these are probably not visible due to dots.\n",
    "    #print(\"DL_DV shape\",dL_dv.shape)\n",
    "    #print(\"tranpsoe x\",np.transpose(x))\n",
    "    #print(\"dL_da\",dL_da.shape)\n",
    "    \n",
    "    return logp[:,t].squeeze(), dL_dw, dL_db.squeeze(),dL_dv,dL_da.squeeze()\n",
    "\n",
    "np.random.seed(123)\n",
    "w = np.random.normal(size=(20,10), scale=0.001)\n",
    "b = np.zeros((10,))\n",
    "v = np.random.normal(size=(28*28,20), scale=0.001)\n",
    "a = np.zeros((20,))\n",
    "# test gradients, train on 1 sample\n",
    "logpt, grad_w, grad_b,grad_v,grad_a = MLP_gradient(x_train[0:1,:], t_train[0:1], w, b,v,a)\n",
    "logp = calc_logp(x_train[0:1,:], t_train[0:1], w, b,v,a,True)\n",
    "\n",
    "print(\"Test gradient on one point\")\n",
    "print(\"Log Likelihood:\\t\", logpt)\n",
    "print(\"\\nGrad_W_ij\\t\",grad_w.shape,\"matrix\")\n",
    "print(\"Grad_v_ij[0,152:158]=\\t\", grad_v[152:158,0])\n",
    "print(\"\\nGrad_B_i shape\\t\",grad_b.shape,\"vector\")\n",
    "print(\"Grad_B_i=\\t\", grad_b.T)\n",
    "print(\"i in {0,...,9}; j in M\")\n",
    "\n",
    "#assert grad_w.shape == (784, 10), grad_w.shape\n",
    "#assert grad_b.shape == (10,), grad_b.shape\n",
    "\n",
    "assert logpt.shape == (), logpt.shape\n",
    "assert grad_w.shape == (20, 10), grad_w.shape\n",
    "assert grad_b.shape == (10,), grad_b.shape\n",
    "assert grad_v.shape == (784, 20), grad_w.shape\n",
    "assert grad_a.shape == (20,), grad_b.shape\n",
    "\n"
   ]
  },
  {
   "cell_type": "code",
   "execution_count": 32,
   "metadata": {
    "deletable": false,
    "editable": false,
    "nbgrader": {
     "checksum": "c73a8145fa846d154551bd6d85908790",
     "grade": true,
     "grade_id": "cell-94b75f65d3038a67",
     "locked": true,
     "points": 5,
     "schema_version": 1,
     "solution": false
    }
   },
   "outputs": [],
   "source": [
    "# Hidden tests for efficiency"
   ]
  },
  {
   "cell_type": "code",
   "execution_count": 37,
   "metadata": {
    "deletable": false,
    "nbgrader": {
     "checksum": "f3be36f9cf960203b49603b3719b8a4d",
     "grade": true,
     "grade_id": "cell-e9b2125a5ea8a22c",
     "locked": false,
     "points": 10,
     "schema_version": 1,
     "solution": true
    }
   },
   "outputs": [
    {
     "name": "stdout",
     "output_type": "stream",
     "text": [
      "Iteration:  1\n",
      "Iteration:  2\n",
      "Iteration:  3\n",
      "Iteration:  4\n",
      "Iteration:  5\n",
      "Iteration:  6\n",
      "Iteration:  7\n",
      "Iteration:  8\n",
      "Iteration:  9\n",
      "Iteration:  10\n"
     ]
    },
    {
     "data": {
      "image/png": "[encoded data removed]",
      "text/plain": [
       "<matplotlib.figure.Figure at 0x7f5563779860>"
      ]
     },
     "metadata": {
      "needs_background": "light"
     },
     "output_type": "display_data"
    }
   ],
   "source": [
    "# Write training code here:\n",
    "def MLP_sgd_iter(x_train, t_train, W, b,v,a,eta=1e-4):\n",
    "    # YOUR CODE HERE\n",
    "    logp_train = 0\n",
    "    indices = list(range(x_train.shape[0]))\n",
    "    random.shuffle(indices)\n",
    "    \n",
    "    for index in indices:\n",
    "        x_sample = x_train[index].reshape((1, 784))\n",
    "        t_sample = np.array(t_train[index],ndmin=1)\n",
    "        logpt, grad_w, grad_b,grad_v,grad_a = MLP_gradient(x_sample,t_sample,W,b,v,a)\n",
    "        logp_train += logpt\n",
    "        #print(grad_v)\n",
    "        #print(grad_a)\n",
    "        W = W + (eta*grad_w)\n",
    "        b = b + (eta*grad_b)\n",
    "        v = v + (eta*grad_v)\n",
    "        a = a + (eta*grad_a)\n",
    "        \n",
    "\n",
    "    return logp_train, W, b,v,a\n",
    "\n",
    "np.random.seed(1243)\n",
    "w = np.zeros((20,10))\n",
    "b = np.zeros((10,))\n",
    "v = np.zeros((28*28,20))\n",
    "a = np.zeros((20,))\n",
    "\n",
    "logp_train, w, b,v,a = MLP_sgd_iter(x_train[:5], t_train[:20], w, b,v,a)\n",
    "\n",
    "\n",
    "# Plot the conditional loglikelihoods for the train and validation dataset after every iteration.\n",
    "def test_MLP(x_train, t_train, x_valid, t_valid, w, b,v,a,eta=1e-4):\n",
    "    # YOUR CODE HERE\n",
    "    \n",
    "    logp_train_avgs = []\n",
    "    logp_valid_avgs = []\n",
    "    counter = 0\n",
    "    x_train_len = x_train.shape[0]\n",
    "    x_valid_len = x_valid.shape[0]\n",
    "    while counter < 10:\n",
    "        \n",
    "        print('Iteration: ',counter+1)\n",
    "        logp_train, w, b,v,a = MLP_sgd_iter(x_train, t_train, w, b,v,a,eta)\n",
    "        logp_train_avg = logp_train/x_train_len\n",
    "        logp_train_avgs.append(logp_train_avg)\n",
    "        \n",
    "        logp_valid_sum = 0\n",
    "        for i,x_sample in enumerate(x_valid):\n",
    "            x_sample = x_sample.reshape((1, 784))\n",
    "            t_sample = np.array(t_valid[i],ndmin=1)\n",
    "            logp_valid = calc_logp(x_sample, t_sample, w, b,v,a,True)\n",
    "            #logp_valid, grad_w, grad_b,grad_v,grad_a = MLP_gradient(x_sample,t_sample,w,b,v,a)\n",
    "            logp_valid_sum += logp_valid\n",
    "        logp_valid_avg = logp_valid_sum / x_valid_len\n",
    "        logp_valid_avgs.append(logp_valid_avg)\n",
    "        counter +=1\n",
    "        \n",
    "       # print(\"Logp_valid_avg\", logp_valid_avg)\n",
    "        \n",
    "    plt.plot(np.arange(len(logp_train_avgs)), logp_train_avgs, label=\"Line training and lr =\" +str(eta))\n",
    "    #plt.plot(np.arange(len(logp_train_avgs)), logp_train_avgs, 'o',label=\"Datapoints training and lr =\" + str(eta))\n",
    "    plt.plot(np.arange(len(logp_valid_avgs)), logp_valid_avgs,label=\"Line validation and lr =\" +str(eta))\n",
    "    #plt.plot(np.arange(len(logp_valid_avgs)), logp_valid_avgs,'o',label=\"Datapoints validation and lr =\" + str(eta))\n",
    "    title = \"Average conditional log probabilities for each iteration\"\n",
    "    plt.title(title,fontsize=14,fontweight=\"bold\")\n",
    "    plt.ylabel('Log p mean',fontsize=15)\n",
    "    plt.xlabel('Iterations',fontsize=15)\n",
    "    #plt.legend()\n",
    "    #plt.show()\n",
    "    \n",
    "    \n",
    "    return w,b,v,a\n",
    "\n",
    "np.random.seed(1243)\n",
    "#w = np.zeros((20,10))\n",
    "w = np.random.normal(size=(20,10), scale=0.1)\n",
    "b = np.zeros((10,))\n",
    "v = np.random.normal(size=(28*28,20), scale=0.1)\n",
    "a = np.zeros((20,))\n",
    "w,b,v,a = test_MLP(x_train, t_train, x_valid, t_valid, w, b,v,a,1e-2)\n",
    "\n",
    "# Plot the weights of the first layer.\n",
    "\n",
    "# \n",
    "\n",
    "# YOUR CODE HERE\n",
    "#raise NotImplementedError()"
   ]
  },
  {
   "cell_type": "code",
   "execution_count": 36,
   "metadata": {
    "deletable": false,
    "nbgrader": {
     "checksum": "9e9550447ee575c602a21489ce8534bb",
     "grade": true,
     "grade_id": "cell-b90dafbb9f41c1ed",
     "locked": false,
     "points": 0,
     "schema_version": 1,
     "solution": true
    }
   },
   "outputs": [
    {
     "name": "stdout",
     "output_type": "stream",
     "text": [
      "Iteration:  1\n",
      "Iteration:  2\n",
      "Iteration:  3\n",
      "Iteration:  4\n",
      "Iteration:  5\n",
      "Iteration:  6\n",
      "Iteration:  7\n",
      "Iteration:  8\n",
      "Iteration:  9\n",
      "Iteration:  10\n",
      "Iteration:  1\n",
      "Iteration:  2\n",
      "Iteration:  3\n",
      "Iteration:  4\n",
      "Iteration:  5\n",
      "Iteration:  6\n",
      "Iteration:  7\n",
      "Iteration:  8\n",
      "Iteration:  9\n",
      "Iteration:  10\n",
      "Iteration:  1\n",
      "Iteration:  2\n",
      "Iteration:  3\n",
      "Iteration:  4\n",
      "Iteration:  5\n",
      "Iteration:  6\n",
      "Iteration:  7\n",
      "Iteration:  8\n",
      "Iteration:  9\n",
      "Iteration:  10\n"
     ]
    },
    {
     "data": {
      "image/png": "[encoded data removed]",
      "text/plain": [
       "<matplotlib.figure.Figure at 0x7f5563447ac8>"
      ]
     },
     "metadata": {
      "needs_background": "light"
     },
     "output_type": "display_data"
    }
   ],
   "source": [
    "# plot the train and validation logp for all three learning rates in one figure\n",
    "\n",
    "\n",
    "#Per ongelukg zelfde kleur gedaan, moet dat weghalen boven. En weet niet of het echt met verschillendle learning rates doet.\n",
    "#Maar de lijnen kloppen niet, de gradient met v en a kloppen wss niet. Hangt af van o.a. gradient van h die dus \n",
    "#delta q * Diag(w) nu\n",
    "#Maar hoort miss delta q * W. Alleen dan wordt het de shape (1 x 20) denk ik \n",
    "#En dan delta h * deriv_sig in dimension is (1 x 20) (20,1) = (1,1) of (20,20) is mogelijk maar wilt (0,20)\n",
    "\n",
    "np.random.seed(1243)\n",
    "#w = np.zeros((20,10))\n",
    "w = np.random.normal(size=(20,10), scale=0.1)\n",
    "b = np.zeros((10,))\n",
    "#v = np.zeros((28*28,20))\n",
    "v = np.random.normal(size=(28*28,20), scale=0.1)\n",
    "a = np.zeros((20,))\n",
    "\n",
    "# YOUR CODE HERE\n",
    "w_4,b_4,v_4,a_4 = test_MLP(x_train, t_train, x_valid, t_valid, w, b,v,a)\n",
    "w_3,b_3,v_3,a_3 = test_MLP(x_train, t_train, x_valid, t_valid, w, b,v,a,1e-3)\n",
    "w_2,b_2,v_2,a_2 = test_MLP(x_train, t_train, x_valid, t_valid, w, b,v,a,1e-2)\n",
    "plt.legend()\n",
    "plt.show()\n",
    "    \n",
    "    "
   ]
  },
  {
   "cell_type": "code",
   "execution_count": 112,
   "metadata": {
    "deletable": false,
    "nbgrader": {
     "checksum": "8f24e3bf890299503af4561915a23915",
     "grade": true,
     "grade_id": "cell-69b3830258566c6d",
     "locked": false,
     "points": 0,
     "schema_version": 1,
     "solution": true
    }
   },
   "outputs": [
    {
     "name": "stdout",
     "output_type": "stream",
     "text": [
      "(784, 20)\n"
     ]
    },
    {
     "data": {
      "image/png": "[encoded data removed]",
      "text/plain": [
       "<matplotlib.figure.Figure at 0x7f4fb9c79898>"
      ]
     },
     "metadata": {
      "needs_background": "light"
     },
     "output_type": "display_data"
    }
   ],
   "source": [
    "# Plot the weights of the first layer for the best model \n",
    "# YOUR CODE HERE\n",
    "def plot_digits(w, num_cols, targets=None, shape=(28,28)):\n",
    "    num_digits = w.shape[1]\n",
    "    num_rows = int(num_digits/num_cols)\n",
    "    print(w.shape)\n",
    "    for i in range(w.shape[1]):\n",
    "        plt.subplot(num_rows, num_cols, i+1)\n",
    "        plt.imshow(w[:,i].reshape(shape), interpolation='nearest',aspect='auto', cmap='YlGnBu')\n",
    "        if targets is not None:\n",
    "            plt.title(\"Weight \" + str(i))\n",
    "        plt.colorbar()\n",
    "        plt.axis('off')\n",
    "        #if w.shape[1] == 20 and i == 9:\n",
    "        #    plt.show()\n",
    "            #plt.tight_layout()\n",
    "    plt.tight_layout()\n",
    "    plt.show()\n",
    "\n",
    "plot_digits(v_2, num_cols=5,targets=0)\n",
    "# YOUR CODE HERE"
   ]
  },
  {
   "cell_type": "markdown",
   "metadata": {
    "deletable": false,
    "editable": false,
    "nbgrader": {
     "checksum": "046552f90febc455e5c56d6bb68b8849",
     "grade": false,
     "grade_id": "cell-5b926040b792b57a",
     "locked": true,
     "schema_version": 1,
     "solution": false
    }
   },
   "source": [
    "### 2.3.1. Explain the learning curves (5 points)\n",
    "In less than 80 words, explain the observed behaviour for the different learning rates."
   ]
  },
  {
   "cell_type": "markdown",
   "metadata": {
    "deletable": false,
    "nbgrader": {
     "checksum": "ca72ec2f983a4d7ca6083fffbf5f6063",
     "grade": true,
     "grade_id": "cell-8858cbe0e4dd02c7",
     "locked": false,
     "points": 5,
     "schema_version": 1,
     "solution": true
    }
   },
   "source": [
    "For the performance of the learning rates, the bigger the learning rate, the better among those 3. A low learning rate means small steps, which is why the lowest has not converge yet within 10 iterations, while others has as bigger steps are needed in the beginning, supported by the increase of green and purple line between iteration 0 and 1. The jump of green line is less than purple as at iteration 0 it already had an big increase.  "
   ]
  },
  {
   "cell_type": "markdown",
   "metadata": {
    "deletable": false,
    "editable": false,
    "nbgrader": {
     "checksum": "a03d026530585bc63f3cad6534b75f1b",
     "grade": false,
     "grade_id": "cell-6ae8cb5a4c246b97",
     "locked": true,
     "schema_version": 1,
     "solution": false
    }
   },
   "source": [
    "### 2.3.2. Explain the weights (5 points)\n",
    "In less than 80 words, explain how and why the weights of the hidden layer of the MLP differ from the logistic regression model, and relate this to the stronger performance of the MLP."
   ]
  },
  {
   "cell_type": "markdown",
   "metadata": {
    "deletable": false,
    "nbgrader": {
     "checksum": "7f6cbf48a398f8722f4d403b957b2075",
     "grade": true,
     "grade_id": "cell-c4fdc27b1aab6828",
     "locked": false,
     "points": 5,
     "schema_version": 1,
     "solution": true
    }
   },
   "source": [
    "Due to the hidden layer, the model is more complex as these are adaptive basis functions that are learned. Thus, the model is less limited and can \"train better\" so to speak for the data. "
   ]
  },
  {
   "cell_type": "markdown",
   "metadata": {
    "deletable": false,
    "editable": false,
    "nbgrader": {
     "checksum": "dd6a4522e0601e36fd37c9586a76236e",
     "grade": false,
     "grade_id": "cell-d10e996556dd40e5",
     "locked": true,
     "schema_version": 1,
     "solution": false
    }
   },
   "source": [
    "### 2.3.2. Different activation functions (10 points)\n",
    "In the task above we use a sigmoid as an activation function.\n",
    "Two other popular choices for activation functions are tanh and the rectified linear unit (ReLU). The ReLU is defined as:\n",
    "\n",
    "$$f(x) = \\max(0.,x)$$\n",
    "\n",
    "You already derived the derivative of the softmax function above. Here, write down the derivative for both the tanh and the ReLU function. Furthermore, for all three, plot the function and its derivative in a range $x\\in[-3,3]$"
   ]
  },
  {
   "cell_type": "markdown",
   "metadata": {
    "deletable": false,
    "nbgrader": {
     "checksum": "d67f15590158b453265dcd76b39e6631",
     "grade": true,
     "grade_id": "cell-e049422b1f9ce35e",
     "locked": false,
     "points": 0,
     "schema_version": 1,
     "solution": true
    }
   },
   "source": [
    "Write down the derivative of ReLU and tanh w.r.t. their respective argument:\n",
    "\n",
    "$$ReLu(a) = max(0,a)$$\n",
    "if a < 0: \n",
    "$$\\frac{\\partial ReLu(a)}{\\partial a} = 0 $$\n",
    "if a > 0:\n",
    "$$\\frac{\\partial ReLu(a)}{\\partial a} = 0 $$\n",
    "At a = 0 the derivative is undefined\n",
    "\n",
    "Tanh:\n",
    "$$tanh(a) = \\frac{e^a - e^{-a}}{e^a + e^{-a}} = (e^a - e^{-a})  (e^a + e^{-a})^{-1}$$\n",
    "$$\\frac{\\partial tanh(a)}{\\partial a} = (e^a - e^{-a} * -1) (e^a + e^{-a})^{-1} + (e^a - e^{-a}) *-1 (e^a + e^{-a})^{-2} (e^a + e^{-a} * -1) $$\n",
    "$$\\frac{\\partial tanh(a)}{\\partial a} = \\frac{(e^a + e^{-a})} {(e^a + e^{-a})} - \\frac{(e^a - e^{-a}) (e^a - e^{-a})} {(e^a + e^{-a})^2} $$  \\\\\n",
    "$$\\frac{\\partial tanh(a)}{\\partial a} = 1 - tanh(a)^2 $$\n",
    "\n",
    "Name two properties that you would like your activation function to have (one sentence each). Why are they important?\n",
    "\n",
    "An activation function that is non-linear to have adaptive basis functions and can generalize as otherwise it would be no difference than linear regression.\n",
    "And to have the activation ensure that the output is within a certain range (like normalization) and differentiate output as otherwise the values can scale too big. \n"
   ]
  },
  {
   "cell_type": "code",
   "execution_count": null,
   "metadata": {
    "deletable": false,
    "nbgrader": {
     "checksum": "9121f55cf725651c75e033f7ca13ee92",
     "grade": true,
     "grade_id": "cell-ecd7fbb4f1ece014",
     "locked": false,
     "points": 5,
     "schema_version": 1,
     "solution": true
    }
   },
   "outputs": [],
   "source": [
    "# plot the function and the derivative for the activations sigmoid, tanh and ReLU.\n",
    "\n",
    "# YOUR CODE HERE\n",
    "raise NotImplementedError()"
   ]
  },
  {
   "cell_type": "markdown",
   "metadata": {
    "deletable": false,
    "nbgrader": {
     "checksum": "928719563cd5a64fe7fbbe05361a4f9e",
     "grade": true,
     "grade_id": "cell-b80eb6b6816d09f7",
     "locked": false,
     "points": 5,
     "schema_version": 1,
     "solution": true
    }
   },
   "source": [
    "Now that you plotted the activations and derivatives, which activation do you think is the best? Why would you choose this activation function? For your answer consider what you named as essential properties for an activation function above. Keep your answer short at no more then 3 sentences.\n",
    "\n",
    "YOUR ANSWER HERE"
   ]
  },
  {
   "cell_type": "code",
   "execution_count": null,
   "metadata": {
    "deletable": false,
    "editable": false,
    "nbgrader": {
     "checksum": "c45d88c24c3a46a7b1ce3d417bf56c96",
     "grade": false,
     "grade_id": "cell-995c4d580f198861",
     "locked": true,
     "schema_version": 1,
     "solution": false
    }
   },
   "outputs": [],
   "source": [
    "print('Notebook ran in {:2.3} minutes.'.format((time.time()-start)/60))"
   ]
  }
 ],
 "metadata": {
  "kernelspec": {
   "display_name": "Python [default]",
   "language": "python",
   "name": "python3"
  },
  "language_info": {
   "codemirror_mode": {
    "name": "ipython",
    "version": 3
   },
   "file_extension": ".py",
   "mimetype": "text/x-python",
   "name": "python",
   "nbconvert_exporter": "python",
   "pygments_lexer": "ipython3",
   "version": "3.6.2"
  }
 },
 "nbformat": 4,
 "nbformat_minor": 1
}
